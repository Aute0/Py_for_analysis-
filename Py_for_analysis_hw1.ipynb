{
 "cells": [
  {
   "cell_type": "markdown",
   "id": "188df84a-7f76-463e-8a95-901cd2c595ab",
   "metadata": {
    "jp-MarkdownHeadingCollapsed": true,
    "tags": []
   },
   "source": [
    "## Задача №1\n",
    "\n",
    "Оформляйте ноутбук, используя эти советы:\n",
    "Номер задачи - заголовок 2\n",
    "Номер подзадачи - заголовок 3"
   ]
  },
  {
   "cell_type": "code",
   "execution_count": null,
   "id": "c299c143-e2de-4db4-b920-824197a0a9f6",
   "metadata": {},
   "outputs": [],
   "source": [
    "# Предоставленные наборы данных оформляйте, как код"
   ]
  },
  {
   "cell_type": "markdown",
   "id": "7ae46f2f-7321-4691-9099-dcae9d217a35",
   "metadata": {
    "jp-MarkdownHeadingCollapsed": true,
    "tags": []
   },
   "source": [
    "## Задача №2"
   ]
  },
  {
   "cell_type": "code",
   "execution_count": null,
   "id": "19f9f265-90c3-4eeb-a201-7a09e6d1c4e3",
   "metadata": {},
   "outputs": [],
   "source": [
    "# На складе лежат разные фрукты в разном количестве. Нужно написать функцию, которая на вход принимает\n",
    "# любое количество названий фруктов и их количество, а возвращает общее количество фруктов на складе"
   ]
  },
  {
   "cell_type": "code",
   "execution_count": 3,
   "id": "0647fe18-c8b8-499f-8279-51e0e57850cb",
   "metadata": {
    "tags": []
   },
   "outputs": [
    {
     "name": "stdout",
     "output_type": "stream",
     "text": [
      "Суммарное количество фруктов на складе: 78\n"
     ]
    }
   ],
   "source": [
    "total_fruits = {'melon ': 6, 'bananas ': 34, 'peaches': 18, 'apples': 20}\n",
    "total = 0\n",
    " \n",
    "for item in total_fruits.values():\n",
    "    total += item\n",
    "print('Суммарное количество фруктов на складе:', total)"
   ]
  },
  {
   "cell_type": "markdown",
   "id": "403ebc9b-1f48-415d-9a5a-dc4104012156",
   "metadata": {
    "jp-MarkdownHeadingCollapsed": true,
    "tags": []
   },
   "source": [
    "## Задача №3"
   ]
  },
  {
   "cell_type": "code",
   "execution_count": null,
   "id": "08cb2234-4436-4a4f-ad34-7a698b64bcbb",
   "metadata": {},
   "outputs": [],
   "source": [
    "# Дан список с затратами на рекламу. Но в данных есть ошибки, некоторые затраты имеют отрицательную величину. \n",
    "# Удалите такие значения из списка и посчитайте суммарные затраты [100, 125, -90, 345, 655, -1, 0, 200]\n",
    "# Используйте list comprehensions"
   ]
  },
  {
   "cell_type": "code",
   "execution_count": 7,
   "id": "ceda0075-abe2-448d-95e6-5ba457456ffc",
   "metadata": {
    "tags": []
   },
   "outputs": [
    {
     "name": "stdout",
     "output_type": "stream",
     "text": [
      "Актуальный список цен: [100, 125, 345, 655, 200]\n"
     ]
    }
   ],
   "source": [
    "price_list = [100, 125, -90, 345, 655, -1, 0, 200]\n",
    "prices = [i for i in price_list if i > 0]\n",
    "print('Актуальный список цен:', prices)"
   ]
  },
  {
   "cell_type": "code",
   "execution_count": 6,
   "id": "12b7f311-6c2b-430a-95fb-3b4b7a6f3924",
   "metadata": {
    "tags": []
   },
   "outputs": [
    {
     "name": "stdout",
     "output_type": "stream",
     "text": [
      "Суммарные затраты на рекламу: 1425\n"
     ]
    }
   ],
   "source": [
    "print('Суммарные затраты на рекламу:', sum(prices))"
   ]
  },
  {
   "cell_type": "markdown",
   "id": "1136bca6-418f-4d8a-885c-91e169cb638e",
   "metadata": {
    "tags": []
   },
   "source": [
    "## Задача №4"
   ]
  },
  {
   "cell_type": "code",
   "execution_count": null,
   "id": "510f7b45-2fe0-41d5-bbea-d2e812e5a277",
   "metadata": {},
   "outputs": [],
   "source": [
    "# Даны два списка.\n",
    "# Дата покупки\n",
    "\n",
    "# ['2021-09-14', '2021-12-15', '2021-09-08', '2021-12-05', '2021-10-09', '2021-09-30', '2021-12-22', '2021-11-29', '2021-12-24',\n",
    "#  '2021-11-26', '2021-10-27', '2021-12-18', '2021-11-09', '2021-11-23', '2021-09-27', '2021-10-02', '2021-12-27', '2021-09-20',\n",
    "#  '2021-12-13', '2021-11-01', '2021-11-09', '2021-12-06', '2021-12-08', '2021-10-09', '2021-10-31', '2021-09-30', '2021-11-09',\n",
    "#  '2021-12-13', '2021-10-26', '2021-12-09']\n",
    "\n",
    "# Суммы покупок по датам\n",
    "\n",
    "# [1270, 8413, 9028, 3703, 5739, 4095, 295, 4944, 5723, 3701, 4471, 651, 7037, 4274, 6275, 4988, 6930, 2971, 6592, 2004, 2822,\n",
    "#  519, 3406, 2732, 5015, 2008, 316, 6333, 5700, 2887]"
   ]
  },
  {
   "cell_type": "markdown",
   "id": "9bbdb72c-1834-4520-9def-8d7f9929bd7a",
   "metadata": {
    "tags": []
   },
   "source": [
    "### Пункт 4.1"
   ]
  },
  {
   "cell_type": "code",
   "execution_count": null,
   "id": "fdaf746c-ce4c-4301-b704-0f0b3d7956bc",
   "metadata": {},
   "outputs": [],
   "source": [
    "# Найдите, какая выручка у компании в ноябре\n",
    "# Используйте list comprehensions"
   ]
  },
  {
   "cell_type": "code",
   "execution_count": 2,
   "id": "11802e06-5d25-4a7a-bf0f-b64562c97e0f",
   "metadata": {
    "tags": []
   },
   "outputs": [],
   "source": [
    "date_list = ['2021-09-14', '2021-12-15', '2021-09-08', '2021-12-05', '2021-10-09', '2021-09-30', '2021-12-22', '2021-11-29',\n",
    "        '2021-12-24', '2021-11-26', '2021-10-27', '2021-12-18', '2021-11-09', '2021-11-23', '2021-09-27', '2021-10-02',\n",
    "        '2021-12-27', '2021-09-20', '2021-12-13', '2021-11-01', '2021-11-09', '2021-12-06', '2021-12-08', '2021-10-09',\n",
    "        '2021-10-31', '2021-09-30', '2021-11-09', '2021-12-13', '2021-10-26', '2021-12-09']\n",
    "sum_list = [1270, 8413, 9028, 3703, 5739, 4095, 295, 4944, 5723, 3701, 4471, 651, 7037, 4274, 6275, 4988, 6930, 2971, 6592,\n",
    "         2004, 2822, 519, 3406, 2732, 5015, 2008, 316, 6333, 5700, 2887]"
   ]
  },
  {
   "cell_type": "code",
   "execution_count": 11,
   "id": "88abc566-4d5b-4c6e-a410-fe108a439971",
   "metadata": {
    "tags": []
   },
   "outputs": [],
   "source": [
    "monthly_sum = sum([m for d, m in zip(date_list, sum_list) if d[5:7] == \"11\"])"
   ]
  },
  {
   "cell_type": "code",
   "execution_count": 14,
   "id": "1806f58f-4cc2-4b18-b347-c1072cd6bb60",
   "metadata": {
    "tags": []
   },
   "outputs": [
    {
     "name": "stdout",
     "output_type": "stream",
     "text": [
      "Выручка компании в ноябре составила: 25098 рублей\n"
     ]
    }
   ],
   "source": [
    "print('Выручка компании в ноябре составила:', monthly_sum, 'рублей')"
   ]
  },
  {
   "cell_type": "markdown",
   "id": "86e457cf-53ef-4d05-9298-d82c99bf2ec1",
   "metadata": {},
   "source": [
    "### Пункт 4.2"
   ]
  },
  {
   "cell_type": "code",
   "execution_count": null,
   "id": "73bed73d-f2f6-4677-b3c4-57adfabb634b",
   "metadata": {},
   "outputs": [],
   "source": [
    "# Найдите выручку компании в зависимости от месяца\n",
    "# Для этого напишите функцию, которая на вход принимает список с датами и список с выручкой, а на выходе словарь, \n",
    "# где ключи - это месяцы, а значения - это выручка. Используйте аннотирование типов."
   ]
  },
  {
   "cell_type": "code",
   "execution_count": 3,
   "id": "d0f20747-9375-48ba-9fd0-218997e07aef",
   "metadata": {
    "tags": []
   },
   "outputs": [
    {
     "name": "stdout",
     "output_type": "stream",
     "text": [
      "{'09': 25647, '12': 45452, '10': 28645, '11': 25098}\n"
     ]
    }
   ],
   "source": [
    "def monthly (date_list: list, sum_list: list) -> dict:\n",
    "    res = {}\n",
    "    for d, m in zip(date_list, sum_list):\n",
    "        if d[5:7] in res.keys():\n",
    "            res[d[5:7]] = res[d[5:7]] + m\n",
    "        else:\n",
    "            res[d[5:7]] = m\n",
    "    return res\n",
    " \n",
    "print(monthly(date_list, sum_list))"
   ]
  },
  {
   "cell_type": "code",
   "execution_count": null,
   "id": "3c85163b-3f13-487f-b7c9-e9e592b4cf38",
   "metadata": {},
   "outputs": [],
   "source": []
  }
 ],
 "metadata": {
  "kernelspec": {
   "display_name": "Python 3 (ipykernel)",
   "language": "python",
   "name": "python3"
  },
  "language_info": {
   "codemirror_mode": {
    "name": "ipython",
    "version": 3
   },
   "file_extension": ".py",
   "mimetype": "text/x-python",
   "name": "python",
   "nbconvert_exporter": "python",
   "pygments_lexer": "ipython3",
   "version": "3.11.0"
  }
 },
 "nbformat": 4,
 "nbformat_minor": 5
}
