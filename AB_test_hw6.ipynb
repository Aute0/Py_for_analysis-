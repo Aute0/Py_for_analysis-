{
 "cells": [
  {
   "cell_type": "code",
   "execution_count": 6,
   "metadata": {},
   "outputs": [],
   "source": [
    "# импорт необходимых библиотек\n",
    "from statsmodels.stats.power import tt_ind_solve_power, zt_ind_solve_power\n",
    "from statsmodels.stats.proportion import proportion_effectsize\n",
    "from statsmodels.stats.meta_analysis import effectsize_smd\n",
    "from typing import Union\n",
    "import plotly.graph_objects as go\n",
    "from scipy import stats\n",
    "from math import asin\n",
    "import numpy as np\n"
   ]
  },
  {
   "attachments": {},
   "cell_type": "markdown",
   "metadata": {},
   "source": [
    "### Задача №1\n",
    "\n",
    "Продакт на главной mail.ru решил протестировать в рекомендательной ленте контента вместо карточек со статьями видеоплеер с короткими видео. \n",
    "\n",
    "Нынешний **таймспент на юзера в день** в среднем равен 25 минут, а **стандартная ошибка (SD)** равна 156. Мы предполагаем, что в новой версии таймспент на юзера в день изменится на 10%. Средний трафик 20000 человек в день. Посчитайте сколько дней необходимо держать эксперимент при alpha = 5% и beta = 20% ."
   ]
  },
  {
   "attachments": {},
   "cell_type": "markdown",
   "metadata": {},
   "source": [
    "**Таймспент на юзера в день (timespent)** \n",
    "\n",
    "TSS (Time Spent on Site — время, проведенное на сайте) — эта метрика показывает среднее время, проведенное пользователями на сайте. Низкий показатель может указывать на несформированное предложение на посадочной странице, холодный или нецелевой трафик. Этот показатель также может быть низким, если пользователям с попадания на посадочную страницу все понятно, решение о покупке формируется быстро. В таком случае ценность низкого показателя будет высокой.\n",
    "\n",
    "Этот показатель - **количественный**, значит будем использовать tt_test"
   ]
  },
  {
   "attachments": {},
   "cell_type": "markdown",
   "metadata": {},
   "source": [
    "#### Формулы"
   ]
  },
  {
   "cell_type": "code",
   "execution_count": 2,
   "metadata": {},
   "outputs": [
    {
     "ename": "NameError",
     "evalue": "name 'Union' is not defined",
     "output_type": "error",
     "traceback": [
      "\u001b[1;31m---------------------------------------------------------------------------\u001b[0m",
      "\u001b[1;31mNameError\u001b[0m                                 Traceback (most recent call last)",
      "Cell \u001b[1;32mIn[2], line 13\u001b[0m\n\u001b[0;32m      8\u001b[0m     \u001b[39mreturn\u001b[39;00m es_formula, es_import\n\u001b[0;32m     10\u001b[0m \u001b[39m# Расчёт effect_size для непрерывных метрик\u001b[39;00m\n\u001b[1;32m---> 13\u001b[0m \u001b[39mdef\u001b[39;00m \u001b[39mcalc_continuous_effect_size\u001b[39m(mean_1: Union[\u001b[39mfloat\u001b[39m, \u001b[39mint\u001b[39m],\n\u001b[0;32m     14\u001b[0m                                 std_1: Union[\u001b[39mfloat\u001b[39m, \u001b[39mint\u001b[39m],\n\u001b[0;32m     15\u001b[0m                                 mean_2: Union[\u001b[39mfloat\u001b[39m, \u001b[39mint\u001b[39m],\n\u001b[0;32m     16\u001b[0m                                 std_2: Union[\u001b[39mfloat\u001b[39m, \u001b[39mint\u001b[39m],\n\u001b[0;32m     17\u001b[0m                                 nobs_1: \u001b[39mint\u001b[39m \u001b[39m=\u001b[39m \u001b[39m10_000\u001b[39m,\n\u001b[0;32m     18\u001b[0m                                 nobs_2: \u001b[39mint\u001b[39m \u001b[39m=\u001b[39m \u001b[39m10_000\u001b[39m):\n\u001b[0;32m     20\u001b[0m     es_formula \u001b[39m=\u001b[39m (mean_1 \u001b[39m-\u001b[39m mean_2) \u001b[39m/\u001b[39m ((std_1\u001b[39m*\u001b[39m\u001b[39m*\u001b[39m\u001b[39m2\u001b[39m \u001b[39m+\u001b[39m std_2\u001b[39m*\u001b[39m\u001b[39m*\u001b[39m\u001b[39m2\u001b[39m) \u001b[39m/\u001b[39m \u001b[39m2\u001b[39m) \u001b[39m*\u001b[39m\u001b[39m*\u001b[39m \u001b[39m0.5\u001b[39m\n\u001b[0;32m     21\u001b[0m     es_import \u001b[39m=\u001b[39m effectsize_smd(mean_1, std_1, nobs_1, mean_2, std_2, nobs_2)[\u001b[39m0\u001b[39m]\n",
      "\u001b[1;31mNameError\u001b[0m: name 'Union' is not defined"
     ]
    }
   ],
   "source": [
    "def calc_proportion_es(prob1: float, prob2: float):\n",
    "\n",
    "    return abs(proportion_effectsize(prob1, prob2))\n",
    "\n",
    "\n",
    "def calc_proportion_es_alt(conv1: float, conv2: float, prob1: float, prob2: float):\n",
    "\n",
    "    return 2 * asin(np.sqrt(conv1/nobs1)) - 2 * asin(np.sqrt(conv2/nobs2))\n",
    "\n",
    "\n",
    "def calc_continuous_es(mean_control: Union[float, int],\n",
    "                       std_control: Union[float, int],\n",
    "                       mean_test: Union[float, int],\n",
    "                       std_test: Union[float, int]):\n",
    "\n",
    "    return abs(effectsize_smd(mean_control,\n",
    "                              std_control,\n",
    "                              1e4,\n",
    "                              mean_test,\n",
    "                              std_test,\n",
    "                              1e4)[0])\n",
    "\n",
    "\n",
    "def calc_continuous_es_alt(mean_control: Union[float, int],\n",
    "                           std_control: Union[float, int],\n",
    "                           mean_test: Union[float, int],\n",
    "                           std_test: Union[float, int]):\n",
    "\n",
    "    effect_size = (mean_test - mean_control) / \\\n",
    "        ((std_control**2 + std_test**2) / 2) ** 0.5\n",
    "    return effect_size\n",
    "\n",
    "\n",
    "def calc_sample_size_continuous(effect_size: float,\n",
    "                                alpha: float = .05,\n",
    "                                beta: float = .2,\n",
    "                                ratio: Union[float, int] = 1):\n",
    "\n",
    "    n = tt_ind_solve_power(effect_size=effect_size,\n",
    "                           alpha=alpha,\n",
    "                           power=(1 - beta),\n",
    "                           ratio=ratio,\n",
    "                           )\n",
    "    return int(n * 2)\n",
    "\n",
    "\n",
    "def calc_sample_size_proportion(effect_size: float,\n",
    "                                alpha: float = .05,\n",
    "                                beta: float = .2,\n",
    "                                ratio: Union[float, int] = 1):\n",
    "\n",
    "    n = zt_ind_solve_power(effect_size=effect_size,\n",
    "                           alpha=alpha,\n",
    "                           power=(1 - beta),\n",
    "                           ratio=ratio,\n",
    "                           )\n",
    "    return int(n * 2)\n"
   ]
  },
  {
   "cell_type": "code",
   "execution_count": null,
   "metadata": {},
   "outputs": [],
   "source": [
    "# Расчёт минимально необходимой выборки * 2(для теста и контроля) для пропорций\n",
    "def calc_sample_size_proportion(effect_size: float,\n",
    "                                alpha: float = .05,\n",
    "                                beta: float = .2,\n",
    "                                ratio: Union[float, int] = 1):\n",
    "\n",
    "    n = zt_ind_solve_power(effect_size=effect_size,\n",
    "                           alpha=alpha,\n",
    "                           power=(1 - beta),\n",
    "                           ratio=ratio,\n",
    "                           )\n",
    "    return int(n * 2)\n",
    "# Расчёт минимально необходимой выборки * 2(для теста и контроля) для непрерывной метрики\n",
    "\n",
    "\n",
    "def calc_sample_size_continuous(effect_size: float,\n",
    "                                alpha: float = .05,\n",
    "                                beta: float = .2,\n",
    "                                ratio: Union[float, int] = 1):\n",
    "\n",
    "    n = tt_ind_solve_power(effect_size=effect_size,\n",
    "                           alpha=alpha,\n",
    "                           power=(1 - beta),\n",
    "                           ratio=ratio,\n",
    "                           )\n",
    "    return int(n * 2)\n"
   ]
  },
  {
   "cell_type": "code",
   "execution_count": null,
   "metadata": {},
   "outputs": [],
   "source": [
    "# Сборная таблица с кодами\n",
    "def calc_proportion_es(prob1: float, prob2: float):\n",
    "\n",
    "    return abs(proportion_effectsize(prob1, prob2))\n",
    "\n",
    "\n",
    "def calc_proportion_es_alt(conv1: float, conv2: float, prob1: float, prob2: float):\n",
    "\n",
    "    return 2 * asin(np.sqrt(conv1/nobs1)) - 2 * asin(np.sqrt(conv2/nobs2))\n",
    "\n",
    "\n",
    "def calc_continuous_es(mean_control: Union[float, int],\n",
    "                       std_control: Union[float, int],\n",
    "                       mean_test: Union[float, int],\n",
    "                       std_test: Union[float, int]):\n",
    "\n",
    "    return abs(effectsize_smd(mean_control,\n",
    "                              std_control,\n",
    "                              1e4,\n",
    "                              mean_test,\n",
    "                              std_test,\n",
    "                              1e4)[0])\n",
    "\n",
    "\n",
    "def calc_continuous_es_alt(mean_control: Union[float, int],\n",
    "                           std_control: Union[float, int],\n",
    "                           mean_test: Union[float, int],\n",
    "                           std_test: Union[float, int]):\n",
    "\n",
    "    effect_size = (mean_test - mean_control) / \\\n",
    "        ((std_control**2 + std_test**2) / 2) ** 0.5\n",
    "    return effect_size\n",
    "\n",
    "\n",
    "def calc_sample_size_continuous(effect_size: float,\n",
    "                                alpha: float = .05,\n",
    "                                beta: float = .2,\n",
    "                                ratio: Union[float, int] = 1):\n",
    "\n",
    "    n = tt_ind_solve_power(effect_size=effect_size,\n",
    "                           alpha=alpha,\n",
    "                           power=(1 - beta),\n",
    "                           ratio=ratio,\n",
    "                           )\n",
    "    return int(n * 2)\n",
    "\n",
    "\n",
    "def calc_sample_size_proportion(effect_size: float,\n",
    "                                alpha: float = .05,\n",
    "                                beta: float = .2,\n",
    "                                ratio: Union[float, int] = 1):\n",
    "\n",
    "    n = zt_ind_solve_power(effect_size=effect_size,\n",
    "                           alpha=alpha,\n",
    "                           power=(1 - beta),\n",
    "                           ratio=ratio,\n",
    "                           )\n",
    "    return int(n * 2)\n"
   ]
  },
  {
   "attachments": {},
   "cell_type": "markdown",
   "metadata": {},
   "source": [
    "#### Решение:"
   ]
  },
  {
   "cell_type": "code",
   "execution_count": 9,
   "metadata": {},
   "outputs": [],
   "source": [
    "def calc_continuous_es(mean_control: Union[float, int],\n",
    "                       std_control: Union[float, int],\n",
    "                       mean_test: Union[float, int],\n",
    "                       std_test: Union[float, int]):\n",
    "\n",
    "    return abs(effectsize_smd(mean_control,\n",
    "                              std_control,\n",
    "                              1e4,\n",
    "                              mean_test,\n",
    "                              std_test,\n",
    "                              1e4)[0])\n",
    "\n",
    "\n",
    "def calc_continuous_es_alt(mean_control: Union[float, int],\n",
    "                           std_control: Union[float, int],\n",
    "                           mean_test: Union[float, int],\n",
    "                           std_test: Union[float, int]):\n",
    "\n",
    "    effect_size = (mean_test - mean_control) / \\\n",
    "        ((std_control**2 + std_test**2) / 2) ** 0.5\n",
    "    return effect_size\n"
   ]
  },
  {
   "cell_type": "code",
   "execution_count": 10,
   "metadata": {},
   "outputs": [
    {
     "data": {
      "text/plain": [
       "(0.014870865944557932, 0.014871423685692022)"
      ]
     },
     "execution_count": 10,
     "metadata": {},
     "output_type": "execute_result"
    }
   ],
   "source": [
    "ts_control, ts_test = 25, 27.5\n",
    "std_control, std_test = 156, 156 * 1.15\n",
    "\n",
    "es_cont = calc_continuous_es(ts_control, std_control, ts_test, std_test)\n",
    "es_cont_alt = calc_continuous_es_alt(\n",
    "    ts_control, std_control, ts_test, std_test)\n",
    "es_cont, es_cont_alt\n"
   ]
  },
  {
   "attachments": {},
   "cell_type": "markdown",
   "metadata": {},
   "source": [
    "Рассчитаем необходимый размер выборки:"
   ]
  },
  {
   "cell_type": "code",
   "execution_count": 12,
   "metadata": {},
   "outputs": [],
   "source": [
    "def calc_sample_size_continuous(effect_size: float,\n",
    "                                alpha: float = .05,\n",
    "                                beta: float = .2,\n",
    "                                ratio: Union[float, int] = 1):\n",
    "\n",
    "    n = tt_ind_solve_power(effect_size=effect_size,\n",
    "                           alpha=alpha,\n",
    "                           power=(1 - beta),\n",
    "                           ratio=ratio,\n",
    "                           )\n",
    "    return int(n * 2)\n"
   ]
  },
  {
   "cell_type": "code",
   "execution_count": 13,
   "metadata": {},
   "outputs": [
    {
     "name": "stderr",
     "output_type": "stream",
     "text": [
      "c:\\Python311\\Lib\\site-packages\\scipy\\stats\\_continuous_distns.py:6832: RuntimeWarning: invalid value encountered in _nct_sf\n",
      "  return np.clip(_boost._nct_sf(x, df, nc), 0, 1)\n",
      "c:\\Python311\\Lib\\site-packages\\scipy\\stats\\_continuous_distns.py:6826: RuntimeWarning: invalid value encountered in _nct_cdf\n",
      "  return np.clip(_boost._nct_cdf(x, df, nc), 0, 1)\n"
     ]
    },
    {
     "data": {
      "text/plain": [
       "(141971, 141960)"
      ]
     },
     "execution_count": 13,
     "metadata": {},
     "output_type": "execute_result"
    }
   ],
   "source": [
    "calc_sample_size_continuous(es_cont), calc_sample_size_continuous(es_cont_alt)"
   ]
  },
  {
   "cell_type": "code",
   "execution_count": 15,
   "metadata": {},
   "outputs": [
    {
     "name": "stdout",
     "output_type": "stream",
     "text": [
      "Необходимая длительность теста: 7.09855 дней.\n"
     ]
    },
    {
     "name": "stderr",
     "output_type": "stream",
     "text": [
      "c:\\Python311\\Lib\\site-packages\\scipy\\stats\\_continuous_distns.py:6832: RuntimeWarning: invalid value encountered in _nct_sf\n",
      "  return np.clip(_boost._nct_sf(x, df, nc), 0, 1)\n",
      "c:\\Python311\\Lib\\site-packages\\scipy\\stats\\_continuous_distns.py:6826: RuntimeWarning: invalid value encountered in _nct_cdf\n",
      "  return np.clip(_boost._nct_cdf(x, df, nc), 0, 1)\n"
     ]
    }
   ],
   "source": [
    "DAU = 20000\n",
    "time_test = calc_sample_size_continuous(es_cont) / DAU\n",
    "print('Необходимая длительность теста:', time_test, 'дней.')"
   ]
  },
  {
   "attachments": {},
   "cell_type": "markdown",
   "metadata": {},
   "source": [
    "### Задача №2\n",
    "\n",
    "Наша продуктовая команда в ecommerce магазине планирует запустить тест, направленный на ускорение загрузки сайта. \n",
    "\n",
    "Одна из основных метрик **bounce rate в GA = 40%**. Мы предполагаем, что при оптимизации сайта она изменится минимум на 20%.Средний трафик 4000 человек в день. \n",
    "\n",
    "Посчитайте сколько нам нужно дней держать эксперимент при alpha = 5% и beta = 20%"
   ]
  },
  {
   "attachments": {},
   "cell_type": "markdown",
   "metadata": {},
   "source": [
    "**BR (Bounce Rate — показатель отказов)** — эта метрика показывает процент пользователей, которые покинули сайт после просмотра одной страницы, не совершив никаких дальнейших действий. Отражает интерес пользователя к контенту или предложению. Высокий показатель может говорить о не правильно подобранной посадочной странице, нецелевом трафике, плохом контенте, несформированном Оффере, отсутствии важной информации, неудачном ценообразовании и т. д. и т. п.\n",
    "\n",
    "Отмечу еще, что Яндекс Метрика и Google Analytics Bounce Rate считают по-разному. Яндекс Метрика считает отказом: посещение не более одной страницы, отсутствие целевых действий, время на странице менее 15 сек. Google Analytics считает отказом: бездействие на одной странице без учета времени. Чтобы отказы считались одинаково, через Google Tag Manager нужно настроить отправку события в Google Analytics для всех пользователей, которые провели более 15 сек. на странице.\n",
    "\n",
    "**Формула расчета:** Bounce Rate = Количество просмотревших одну страницу (количество отказов) / Общее количество просмотренных страниц * 100%\n",
    "\n",
    "Качественный показатель!"
   ]
  },
  {
   "attachments": {},
   "cell_type": "markdown",
   "metadata": {},
   "source": [
    "#### Решение:"
   ]
  },
  {
   "cell_type": "code",
   "execution_count": 17,
   "metadata": {},
   "outputs": [],
   "source": [
    "def calc_proportion_es(prob1: float, prob2: float):\n",
    "\n",
    "    return abs(proportion_effectsize(prob1, prob2))\n"
   ]
  },
  {
   "cell_type": "code",
   "execution_count": 18,
   "metadata": {},
   "outputs": [
    {
     "data": {
      "text/plain": [
       "0.16690997264630925"
      ]
     },
     "execution_count": 18,
     "metadata": {},
     "output_type": "execute_result"
    }
   ],
   "source": [
    "bounce_rate_1, bounce_rate_2 = 0.40, 0.32\n",
    "\n",
    "es_prop = calc_proportion_es(bounce_rate_1, bounce_rate_2)\n",
    "es_prop"
   ]
  },
  {
   "attachments": {},
   "cell_type": "markdown",
   "metadata": {},
   "source": [
    "Рассчитаем необходимый объем выборки:"
   ]
  },
  {
   "cell_type": "code",
   "execution_count": 20,
   "metadata": {},
   "outputs": [],
   "source": [
    "def calc_sample_size_proportion(effect_size: float,\n",
    "                                alpha: float = .05,\n",
    "                                beta: float = .2,\n",
    "                                ratio: Union[float, int] = 1):\n",
    "\n",
    "    n = zt_ind_solve_power(effect_size=effect_size,\n",
    "                           alpha=alpha,\n",
    "                           power=(1 - beta),\n",
    "                           ratio=ratio,\n",
    "                           )\n",
    "    return int(n * 2)\n"
   ]
  },
  {
   "cell_type": "code",
   "execution_count": 21,
   "metadata": {},
   "outputs": [
    {
     "data": {
      "text/plain": [
       "1126"
      ]
     },
     "execution_count": 21,
     "metadata": {},
     "output_type": "execute_result"
    }
   ],
   "source": [
    "\n",
    "calc_sample_size_proportion(es_prop)\n"
   ]
  },
  {
   "attachments": {},
   "cell_type": "markdown",
   "metadata": {},
   "source": [
    "Рассчитаем необходимое время тестирования:"
   ]
  },
  {
   "cell_type": "code",
   "execution_count": 25,
   "metadata": {},
   "outputs": [
    {
     "name": "stdout",
     "output_type": "stream",
     "text": [
      "Необходимая длительность теста: 0.28 дней.\n"
     ]
    }
   ],
   "source": [
    "DAU = 4000\n",
    "\n",
    "time_test = calc_sample_size_proportion(es_prop) / DAU\n",
    "print('Необходимая длительность теста:', round(time_test,2), 'дней.')\n"
   ]
  }
 ],
 "metadata": {
  "kernelspec": {
   "display_name": "Python 3",
   "language": "python",
   "name": "python3"
  },
  "language_info": {
   "codemirror_mode": {
    "name": "ipython",
    "version": 3
   },
   "file_extension": ".py",
   "mimetype": "text/x-python",
   "name": "python",
   "nbconvert_exporter": "python",
   "pygments_lexer": "ipython3",
   "version": "3.11.0"
  },
  "orig_nbformat": 4
 },
 "nbformat": 4,
 "nbformat_minor": 2
}
